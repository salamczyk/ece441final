{
 "cells": [
  {
   "cell_type": "code",
   "execution_count": 1,
   "metadata": {},
   "outputs": [],
   "source": [
    "import tensorflow as tf\n",
    "import tensorflow_datasets as tfds\n",
    "import sys\n",
    "import numpy\n",
    "numpy.set_printoptions(threshold=sys.maxsize)\n",
    "\n",
    "\n",
    "tf.random.set_seed(1234)\n",
    "\n",
    "\n",
    "(ds_train, ds_test), ds_info = tfds.load(\n",
    "    'mnist',\n",
    "    split=['train', 'test'],\n",
    "    shuffle_files=True,\n",
    "    as_supervised=True,\n",
    "    with_info=True,\n",
    ")\n",
    "\n",
    "def normalize_img(image, label):\n",
    "  \"\"\"Normalizes images: `uint8` -> `float32`.\"\"\"\n",
    "  return tf.cast(image, tf.float32) / 255., label\n",
    "\n",
    "ds_train = ds_train.map(\n",
    "    normalize_img, num_parallel_calls=tf.data.AUTOTUNE)\n",
    "ds_train = ds_train.cache()\n",
    "ds_train = ds_train.shuffle(ds_info.splits['train'].num_examples)\n",
    "ds_train = ds_train.batch(128)\n",
    "ds_train = ds_train.prefetch(tf.data.AUTOTUNE)\n",
    "\n",
    "ds_test = ds_test.map(\n",
    "    normalize_img, num_parallel_calls=tf.data.AUTOTUNE)\n",
    "ds_test = ds_test.batch(128)\n",
    "ds_test = ds_test.cache()\n",
    "ds_test = ds_test.prefetch(tf.data.AUTOTUNE)\n"
   ]
  },
  {
   "cell_type": "code",
   "execution_count": 2,
   "metadata": {},
   "outputs": [
    {
     "name": "stdout",
     "output_type": "stream",
     "text": [
      "Epoch 1/6\n",
      "469/469 [==============================] - 3s 2ms/step - loss: 0.3680 - sparse_categorical_accuracy: 0.8976 - val_loss: 0.2063 - val_sparse_categorical_accuracy: 0.9401\n",
      "Epoch 2/6\n",
      "469/469 [==============================] - 1s 2ms/step - loss: 0.1693 - sparse_categorical_accuracy: 0.9520 - val_loss: 0.1443 - val_sparse_categorical_accuracy: 0.9564\n",
      "Epoch 3/6\n",
      "469/469 [==============================] - 1s 2ms/step - loss: 0.1225 - sparse_categorical_accuracy: 0.9653 - val_loss: 0.1160 - val_sparse_categorical_accuracy: 0.9649\n",
      "Epoch 4/6\n",
      "469/469 [==============================] - 1s 2ms/step - loss: 0.0949 - sparse_categorical_accuracy: 0.9733 - val_loss: 0.1036 - val_sparse_categorical_accuracy: 0.9699\n",
      "Epoch 5/6\n",
      "469/469 [==============================] - 1s 2ms/step - loss: 0.0766 - sparse_categorical_accuracy: 0.9778 - val_loss: 0.0890 - val_sparse_categorical_accuracy: 0.9735\n",
      "Epoch 6/6\n",
      "469/469 [==============================] - 1s 2ms/step - loss: 0.0642 - sparse_categorical_accuracy: 0.9814 - val_loss: 0.0821 - val_sparse_categorical_accuracy: 0.9752\n"
     ]
    },
    {
     "data": {
      "text/plain": [
       "<keras.callbacks.History at 0x175e06e1cd0>"
      ]
     },
     "execution_count": 2,
     "metadata": {},
     "output_type": "execute_result"
    }
   ],
   "source": [
    "\n",
    "\n",
    "\n",
    "model = tf.keras.models.Sequential([\n",
    "  tf.keras.layers.Flatten(input_shape=(28, 28)),\n",
    "  tf.keras.layers.Dense(128, activation='relu'),\n",
    "  tf.keras.layers.Dense(10)\n",
    "])\n",
    "model.compile(\n",
    "    optimizer=tf.keras.optimizers.Adam(0.001),\n",
    "    loss=tf.keras.losses.SparseCategoricalCrossentropy(from_logits=True),\n",
    "    metrics=[tf.keras.metrics.SparseCategoricalAccuracy()],\n",
    ")\n",
    "\n",
    "model.fit(\n",
    "    ds_train,\n",
    "    epochs=6,\n",
    "    validation_data=ds_test,\n",
    ")\n",
    "\n"
   ]
  },
  {
   "cell_type": "code",
   "execution_count": 28,
   "metadata": {},
   "outputs": [],
   "source": [
    "\n",
    "f = open(\"raw_weights.txt\", \"w\")\n",
    "for layer in model.layers[1:]:\n",
    "    f.write(layer.name)\n",
    "    f.write(\"\\n\")\n",
    "    f.write(\"Weight Shape:\\n\")\n",
    "    f.write(str(layer.get_weights()[0].shape))\n",
    "    f.write(\"\\n\")\n",
    "    f.write(\"Bias Shape:\\n\")\n",
    "    f.write(str(layer.get_weights()[1].shape))\n",
    "    f.write(\"\\n\")\n",
    "    f.write(\"weights:\\n\")\n",
    "    f.write(str(layer.get_weights()[0]))\n",
    "    f.write(\"\\n\")\n",
    "    f.write(\"biases:\\n\")\n",
    "    f.write(str(layer.get_weights()[1]))\n",
    "    f.write(\"\\n\")\n",
    "    f.write(\"\\n\")\n",
    "f.close()\n",
    "\n",
    "f = open(\"clean_weights.txt\", \"w\")\n",
    "for layer in model.layers[1:]:\n",
    "    f.write(layer.name)\n",
    "    f.write(\"\\n\")\n",
    "    f.write(\"Weight Shape:\\n\")\n",
    "    f.write(str(layer.get_weights()[0].shape))\n",
    "    f.write(\"\\n\")\n",
    "    f.write(\"Bias Shape:\\n\")\n",
    "    f.write(str(layer.get_weights()[1].shape))\n",
    "    f.write(\"\\n\")\n",
    "\n",
    "    f.write(\"weights:\\n\")\n",
    "    weights = layer.get_weights()[0]\n",
    "    weights = weights * 256\n",
    "    weights = weights.astype(int)\n",
    "\n",
    "    f.write(\"(\")\n",
    "    for i in range(weights.shape[0]):\n",
    "        f.write(\"(\")\n",
    "        for j in range(weights.shape[1]):\n",
    "            f.write(\"\\\"\" + bin(weights[i, j] & 0b111111111111111111)[2:].zfill(18) + \"\\\",\")\n",
    "        f.write(\"),\\n\")\n",
    "    f.write(\")\")\n",
    "\n",
    "\n",
    "    \n",
    "    f.write(\"biases:\\n\")\n",
    "    bias = layer.get_weights()[1]\n",
    "    bias = bias * 256\n",
    "    bias = bias.astype(int)\n",
    "    f.write(\"(\")\n",
    "    for i in range(bias.shape[0]):\n",
    "        f.write(\"\\\"\" + bin(bias[i] & 0b111111111111111111)[2:].zfill(18) + \"\\\",\")\n",
    "        \n",
    "    f.write(\")\")\n",
    "    f.write(\"\\n\")\n",
    "f.close()\n",
    "\n"
   ]
  },
  {
   "cell_type": "markdown",
   "metadata": {},
   "source": [
    "Demonstration"
   ]
  },
  {
   "cell_type": "code",
   "execution_count": 4,
   "metadata": {},
   "outputs": [],
   "source": [
    "import matplotlib.pyplot as plt\n",
    "import numpy as np"
   ]
  },
  {
   "cell_type": "code",
   "execution_count": 5,
   "metadata": {},
   "outputs": [],
   "source": [
    "(x_train, y_train), (x_test, y_test) = tf.keras.datasets.mnist.load_data()"
   ]
  },
  {
   "cell_type": "code",
   "execution_count": 6,
   "metadata": {},
   "outputs": [
    {
     "data": {
      "text/plain": [
       "<matplotlib.image.AxesImage at 0x17832a11820>"
      ]
     },
     "execution_count": 6,
     "metadata": {},
     "output_type": "execute_result"
    },
    {
     "data": {
      "image/png": "[encoded data removed]",
      "text/plain": [
       "<Figure size 432x288 with 1 Axes>"
      ]
     },
     "metadata": {
      "needs_background": "light"
     },
     "output_type": "display_data"
    }
   ],
   "source": [
    "image = x_train[8000]\n",
    "plt.imshow(image)"
   ]
  },
  {
   "cell_type": "code",
   "execution_count": 7,
   "metadata": {},
   "outputs": [
    {
     "name": "stdout",
     "output_type": "stream",
     "text": [
      "[[ 15.058198   -11.97197      0.64760554  -2.1283774   -3.2877913\n",
      "   -5.4364734   -1.9440724   -4.787583    -4.7576942    5.4049263 ]]\n"
     ]
    }
   ],
   "source": [
    "print(model.predict(np.array([image/255])))"
   ]
  },
  {
   "cell_type": "code",
   "execution_count": 8,
   "metadata": {},
   "outputs": [],
   "source": [
    "image = (image / 255 ) * 256\n",
    "image = image.flatten().astype(int)"
   ]
  },
  {
   "cell_type": "code",
   "execution_count": 19,
   "metadata": {},
   "outputs": [],
   "source": [
    "with open(\"image.txt\", \"w\") as f:\n",
    "    f.write(\"(\")\n",
    "    for i in range(len(image)):\n",
    "        f.write(\"\\\"\" + bin(image[i] & 0b111111111111111111)[2:].zfill(18) + \"\\\",\")\n",
    "    f.write(\")\")"
   ]
  },
  {
   "cell_type": "code",
   "execution_count": 10,
   "metadata": {},
   "outputs": [],
   "source": [
    "intermediate_weights = (model.layers[1].get_weights()[0] * 256).astype(int)\n",
    "intermediate_output = (model.layers[1].get_weights()[1] * 256).astype(int)\n",
    "\n",
    "final_weights = (model.layers[2].get_weights()[0] * 256).astype(int)\n",
    "final_output = (model.layers[2].get_weights()[1] * 256).astype(int)"
   ]
  },
  {
   "cell_type": "code",
   "execution_count": 11,
   "metadata": {},
   "outputs": [],
   "source": [
    "intermediate_output = ((np.matmul(image, intermediate_weights) + intermediate_output)/256).astype(int)\n",
    "intermediate_output[intermediate_output < 0] = 0"
   ]
  },
  {
   "cell_type": "code",
   "execution_count": 12,
   "metadata": {},
   "outputs": [],
   "source": [
    "final_output = ((np.matmul(intermediate_output, final_weights) + final_output)/256).astype(int)"
   ]
  },
  {
   "cell_type": "code",
   "execution_count": 13,
   "metadata": {},
   "outputs": [
    {
     "data": {
      "text/plain": [
       "array([ 14, -11,   0,  -1,  -3,  -5,  -1,  -4,  -4,   5])"
      ]
     },
     "execution_count": 13,
     "metadata": {},
     "output_type": "execute_result"
    }
   ],
   "source": [
    "(final_output/256).astype(int)"
   ]
  },
  {
   "cell_type": "code",
   "execution_count": 14,
   "metadata": {},
   "outputs": [
    {
     "name": "stdout",
     "output_type": "stream",
     "text": [
      "[   0 1699    0  356    0  179  892    0    0 1049    0    0  446    0\n",
      "  127  438    0  620    0  225    0  467 1797    0  429  339    0  362\n",
      "    0    0    0    4  762    0    0    0    0    0    0  199  299    0\n",
      "    0    0 1290    0    0    0 1016   27  276  594  838   27    0   19\n",
      "    0  855 1679    0  789    0  387  245    0 1504    0  752    0  236\n",
      "  446   14    0    0   93    0  794  707  401  272    0  781  370    0\n",
      "  377    0    0    0   14    0    0  565    0  726  262    0    0  430\n",
      "    0  338  567  333  868  300    0  610    0    0    0  270    0 1660\n",
      "  873    0  158 1087  293  227    0  236   60    0    0    0    0  878\n",
      "    0  279]\n"
     ]
    }
   ],
   "source": [
    "print(intermediate_output)"
   ]
  }
 ],
 "metadata": {
  "interpreter": {
   "hash": "d170b457be874f1938439fbf2842c7757c08f881ea1aca22d804f446eeddf2dd"
  },
  "kernelspec": {
   "display_name": "Python 3.9.9 64-bit",
   "language": "python",
   "name": "python3"
  },
  "language_info": {
   "codemirror_mode": {
    "name": "ipython",
    "version": 3
   },
   "file_extension": ".py",
   "mimetype": "text/x-python",
   "name": "python",
   "nbconvert_exporter": "python",
   "pygments_lexer": "ipython3",
   "version": "3.9.9"
  },
  "orig_nbformat": 4
 },
 "nbformat": 4,
 "nbformat_minor": 2
}
