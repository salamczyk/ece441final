{
 "cells": [
  {
   "cell_type": "code",
   "execution_count": 1,
   "metadata": {},
   "outputs": [],
   "source": [
    "import tensorflow as tf\n",
    "import tensorflow_datasets as tfds\n",
    "import sys\n",
    "import numpy\n",
    "numpy.set_printoptions(threshold=sys.maxsize)\n",
    "\n",
    "\n",
    "tf.random.set_seed(1234)\n",
    "\n",
    "\n",
    "(ds_train, ds_test), ds_info = tfds.load(\n",
    "    'mnist',\n",
    "    split=['train', 'test'],\n",
    "    shuffle_files=True,\n",
    "    as_supervised=True,\n",
    "    with_info=True,\n",
    ")\n",
    "\n",
    "def normalize_img(image, label):\n",
    "  \"\"\"Normalizes images: `uint8` -> `float32`.\"\"\"\n",
    "  return tf.cast(image, tf.float32) / 255., label\n",
    "\n",
    "ds_train = ds_train.map(\n",
    "    normalize_img, num_parallel_calls=tf.data.AUTOTUNE)\n",
    "ds_train = ds_train.cache()\n",
    "ds_train = ds_train.shuffle(ds_info.splits['train'].num_examples)\n",
    "ds_train = ds_train.batch(128)\n",
    "ds_train = ds_train.prefetch(tf.data.AUTOTUNE)\n",
    "\n",
    "ds_test = ds_test.map(\n",
    "    normalize_img, num_parallel_calls=tf.data.AUTOTUNE)\n",
    "ds_test = ds_test.batch(128)\n",
    "ds_test = ds_test.cache()\n",
    "ds_test = ds_test.prefetch(tf.data.AUTOTUNE)\n"
   ]
  },
  {
   "cell_type": "code",
   "execution_count": 2,
   "metadata": {},
   "outputs": [
    {
     "name": "stdout",
     "output_type": "stream",
     "text": [
      "Epoch 1/6\n",
      "469/469 [==============================] - 5s 2ms/step - loss: 0.3680 - sparse_categorical_accuracy: 0.8976 - val_loss: 0.2061 - val_sparse_categorical_accuracy: 0.9399\n",
      "Epoch 2/6\n",
      "469/469 [==============================] - 1s 2ms/step - loss: 0.1692 - sparse_categorical_accuracy: 0.9520 - val_loss: 0.1444 - val_sparse_categorical_accuracy: 0.9571\n",
      "Epoch 3/6\n",
      "469/469 [==============================] - 1s 2ms/step - loss: 0.1224 - sparse_categorical_accuracy: 0.9652 - val_loss: 0.1152 - val_sparse_categorical_accuracy: 0.9651\n",
      "Epoch 4/6\n",
      "469/469 [==============================] - 1s 2ms/step - loss: 0.0950 - sparse_categorical_accuracy: 0.9729 - val_loss: 0.1031 - val_sparse_categorical_accuracy: 0.9695\n",
      "Epoch 5/6\n",
      "469/469 [==============================] - 1s 2ms/step - loss: 0.0765 - sparse_categorical_accuracy: 0.9777 - val_loss: 0.0884 - val_sparse_categorical_accuracy: 0.9738\n",
      "Epoch 6/6\n",
      "469/469 [==============================] - 1s 2ms/step - loss: 0.0639 - sparse_categorical_accuracy: 0.9817 - val_loss: 0.0819 - val_sparse_categorical_accuracy: 0.9754\n"
     ]
    },
    {
     "data": {
      "text/plain": [
       "<keras.callbacks.History at 0x21930cd3460>"
      ]
     },
     "execution_count": 2,
     "metadata": {},
     "output_type": "execute_result"
    }
   ],
   "source": [
    "\n",
    "\n",
    "\n",
    "#[1x784]* [784x128] = o_1\n",
    "#o_1 + [1x128] = o_1\n",
    "#o_1 * [128x10] = o_2\n",
    "#o_2 + [1x10] = o_2\n",
    "\n",
    "model = tf.keras.models.Sequential([\n",
    "  tf.keras.layers.Flatten(input_shape=(28, 28)),\n",
    "  tf.keras.layers.Dense(128, activation='relu'),\n",
    "  tf.keras.layers.Dense(10)\n",
    "])\n",
    "model.compile(\n",
    "    optimizer=tf.keras.optimizers.Adam(0.001),\n",
    "    loss=tf.keras.losses.SparseCategoricalCrossentropy(from_logits=True),\n",
    "    metrics=[tf.keras.metrics.SparseCategoricalAccuracy()],\n",
    ")\n",
    "\n",
    "model.fit(\n",
    "    ds_train,\n",
    "    epochs=6,\n",
    "    validation_data=ds_test,\n",
    ")\n",
    "\n"
   ]
  },
  {
   "cell_type": "code",
   "execution_count": 20,
   "metadata": {},
   "outputs": [],
   "source": [
    "\n",
    "f = open(\"raw_weights.txt\", \"w\")\n",
    "for layer in model.layers[1:]:\n",
    "    f.write(layer.name)\n",
    "    f.write(\"\\n\")\n",
    "    f.write(\"Weight Shape:\\n\")\n",
    "    f.write(str(layer.get_weights()[0].shape))\n",
    "    f.write(\"\\n\")\n",
    "    f.write(\"Bias Shape:\\n\")\n",
    "    f.write(str(layer.get_weights()[1].shape))\n",
    "    f.write(\"\\n\")\n",
    "    f.write(\"weights:\\n\")\n",
    "    f.write(str(layer.get_weights()[0]))\n",
    "    f.write(\"\\n\")\n",
    "    f.write(\"biases:\\n\")\n",
    "    f.write(str(layer.get_weights()[1]))\n",
    "    f.write(\"\\n\")\n",
    "    f.write(\"\\n\")\n",
    "f.close()\n",
    "\n",
    "f = open(\"clean_weights.txt\", \"w\")\n",
    "for layer in model.layers[1:]:\n",
    "    f.write(layer.name)\n",
    "    f.write(\"\\n\")\n",
    "    f.write(\"Weight Shape:\\n\")\n",
    "    f.write(str(layer.get_weights()[0].shape))\n",
    "    f.write(\"\\n\")\n",
    "    f.write(\"Bias Shape:\\n\")\n",
    "    f.write(str(layer.get_weights()[1].shape))\n",
    "    f.write(\"\\n\")\n",
    "\n",
    "    f.write(\"weights:\\n\")\n",
    "    weights = layer.get_weights()[0]\n",
    "    weights = weights * 256\n",
    "    weights = weights.astype(int)\n",
    "\n",
    "    f.write(\"(\")\n",
    "    for i in range(weights.shape[0]):\n",
    "        f.write(\"(\")\n",
    "        for j in range(weights.shape[1]):\n",
    "            f.write(str(weights[i][j]) + \",\")\n",
    "        f.write(\"),\\n\")\n",
    "    f.write(\")\")\n",
    "\n",
    "\n",
    "    \n",
    "    f.write(\"biases:\\n\")\n",
    "    bias = layer.get_weights()[1]\n",
    "    bias = bias * 256\n",
    "    bias = bias.astype(int)\n",
    "    f.write(\"(\")\n",
    "    for i in range(bias.shape[0]):\n",
    "        f.write(str(bias[i]) + \",\")\n",
    "        \n",
    "    f.write(\")\")\n",
    "    f.write(\"\\n\")\n",
    "f.close()\n",
    "\n"
   ]
  },
  {
   "cell_type": "markdown",
   "metadata": {},
   "source": [
    "Demonstration"
   ]
  },
  {
   "cell_type": "code",
   "execution_count": 3,
   "metadata": {},
   "outputs": [],
   "source": [
    "import matplotlib.pyplot as plt\n",
    "import numpy as np"
   ]
  },
  {
   "cell_type": "code",
   "execution_count": 4,
   "metadata": {},
   "outputs": [],
   "source": [
    "(x_train, y_train), (x_test, y_test) = tf.keras.datasets.mnist.load_data()"
   ]
  },
  {
   "cell_type": "code",
   "execution_count": 20,
   "metadata": {},
   "outputs": [
    {
     "data": {
      "text/plain": [
       "<matplotlib.image.AxesImage at 0x21bdfff4400>"
      ]
     },
     "execution_count": 20,
     "metadata": {},
     "output_type": "execute_result"
    },
    {
     "data": {
      "image/png": "[encoded data removed]",
      "text/plain": [
       "<Figure size 432x288 with 1 Axes>"
      ]
     },
     "metadata": {
      "needs_background": "light"
     },
     "output_type": "display_data"
    }
   ],
   "source": [
    "image = x_train[1]\n",
    "plt.imshow(image)"
   ]
  },
  {
   "cell_type": "code",
   "execution_count": 7,
   "metadata": {},
   "outputs": [
    {
     "name": "stdout",
     "output_type": "stream",
     "text": [
      "[[-5.8680277  8.024975  -2.825469  -1.2626964 -3.4956007 -8.04437\n",
      "  -5.942238  -0.9878815 -1.7844296 -4.2466717]]\n"
     ]
    }
   ],
   "source": [
    "print(model.predict(np.array([image/255])))"
   ]
  },
  {
   "cell_type": "code",
   "execution_count": 8,
   "metadata": {},
   "outputs": [],
   "source": [
    "image = (image / 255 ) * 256\n",
    "image = image.flatten().astype(int)"
   ]
  },
  {
   "cell_type": "code",
   "execution_count": 9,
   "metadata": {},
   "outputs": [],
   "source": [
    "with open(\"image.txt\", \"w\") as f:\n",
    "    f.write(\"(\")\n",
    "    for i in range(len(image)):\n",
    "        f.write(str(image[i]) + \",\")\n",
    "    f.write(\")\")"
   ]
  },
  {
   "cell_type": "code",
   "execution_count": 9,
   "metadata": {},
   "outputs": [],
   "source": [
    "intermediate_weights = (model.layers[1].get_weights()[0] * 256).astype(int)\n",
    "intermediate_output = (model.layers[1].get_weights()[1] * 256).astype(int)\n",
    "\n",
    "final_weights = (model.layers[2].get_weights()[0] * 256).astype(int)\n",
    "final_output = (model.layers[2].get_weights()[1] * 256).astype(int)"
   ]
  },
  {
   "cell_type": "code",
   "execution_count": 10,
   "metadata": {},
   "outputs": [],
   "source": [
    "intermediate_output = ((np.matmul(image, intermediate_weights) + intermediate_output)/256).astype(int)\n",
    "intermediate_output[intermediate_output < 0] = 0"
   ]
  },
  {
   "cell_type": "code",
   "execution_count": 11,
   "metadata": {},
   "outputs": [],
   "source": [
    "final_output = ((np.matmul(intermediate_output, final_weights) + final_output)/256).astype(int)"
   ]
  },
  {
   "cell_type": "code",
   "execution_count": 12,
   "metadata": {},
   "outputs": [
    {
     "data": {
      "text/plain": [
       "array([-5,  7, -2,  0, -3, -8, -5, -1, -1, -4])"
      ]
     },
     "execution_count": 12,
     "metadata": {},
     "output_type": "execute_result"
    }
   ],
   "source": [
    "(final_output/256).astype(int)"
   ]
  },
  {
   "cell_type": "code",
   "execution_count": 18,
   "metadata": {},
   "outputs": [
    {
     "data": {
      "text/plain": [
       "array([-230098,  458052,  -14760,  105402,  -51754,   46457,  234960,\n",
       "       -315140, -179447,  260815, -160265,  -11646,  114748, -250047,\n",
       "         32117,   95648,  -33208,  173253,  -71085,   41927,  -51776,\n",
       "         76360,  458309, -146348,  121354,   90980, -168328,  109746,\n",
       "       -112405, -221665,  -22787,   -9310,  169006,   -5212, -171059,\n",
       "       -169062,  -34771,  -58807, -261178,   51283,  105610,  -82767,\n",
       "       -318507, -177013,  341552, -203324, -161330,  -62834,  265910,\n",
       "          6746,   81779,  160026,  206826,   -5573,  -60007,     346,\n",
       "       -163558,  222100,  405326, -136554,  215739,  -58310,  125147,\n",
       "         44043, -878497,  365996, -220064,  197517, -258282,   66206,\n",
       "        125777,    9492,  -48517,  -47691,   16711, -116321,  203201,\n",
       "        154864,  120326,   98572,  -71106,  217617,   98387, -213332,\n",
       "         86855,  -37516, -111400,  -75135,    7941, -225302,  -13484,\n",
       "        134339,  -60891,  174355,   62514, -257469, -187037,  115045,\n",
       "        -33139,   56433,  131339,   73589,  223356,   78734, -165809,\n",
       "        174850,    5563,   -3453, -337341,  120315,   34688,  435787,\n",
       "        218891,  -68071,  -17443,  263278,   70666,   50379, -236994,\n",
       "         56127,   16633,   -2711, -412788,  -42795, -229510,  229726,\n",
       "         19703,   78330])"
      ]
     },
     "execution_count": 18,
     "metadata": {},
     "output_type": "execute_result"
    }
   ],
   "source": [
    "intermediate_output = (model.layers[1].get_weights()[1] * 256).astype(int)\n",
    "np.matmul(image, intermediate_weights)\n"
   ]
  },
  {
   "cell_type": "code",
   "execution_count": 17,
   "metadata": {},
   "outputs": [
    {
     "name": "stdout",
     "output_type": "stream",
     "text": [
      "[[-144  -17   42 -126  -37   65   89 -113  -10   71]\n",
      " [  82  -52 -185   15   59   21   73   -2 -129   80]\n",
      " [ -82  -28  -52   -4   61   81 -163   56  -51   64]\n",
      " [  -2   38   58    6 -107  -50  -43  -39   35   -8]\n",
      " [ -43  101 -136 -105  157  -33   42  -38  -52 -128]\n",
      " [ -59   39   43  -18   47  -20   59  -90   17  -19]\n",
      " [  50  -70   53  -53   -2  -50   22   27   48   52]\n",
      " [   1  -10    1   46    6   -2  -33  -90   90  -23]\n",
      " [ -80   20   32   26    5  -52  -70   29   42   18]\n",
      " [  62   -7  -14   73   -6  -37   24   96 -103  -97]\n",
      " [ -33   84  126   35  -39    8   -8   -1   11 -164]\n",
      " [  66  -42  -67   20  -50   86   32  -60   48  -55]\n",
      " [ -47   58   55   11  -98    0  -88   38   -4   35]\n",
      " [  -4   97  -63  -36  -54   65  -63   43 -148   97]\n",
      " [ -71  -50    9 -105   49 -116   86   75  -27   30]\n",
      " [  28  -29   62  -24 -101   -1   10   -7  -40 -107]\n",
      " [  13    2   47   44   60  -54   23  -23  -42 -107]\n",
      " [   5   34   42  -22 -107    0  -42   17   44  -53]\n",
      " [-110   -6   17    0  -68  -19  -33   55   37  -89]\n",
      " [  18  -52   48   42   27    3  -53   31  -51  -69]\n",
      " [  -9   26   14  -45 -134   65 -175   56   -8   32]\n",
      " [  67   44    3  -92    4  -22  -62  165  -16   -9]\n",
      " [  78  109   -1  -16  114  -93   -4   44 -108  -14]\n",
      " [  42   33  -81 -138   62  -39  -33    6   63    5]\n",
      " [  54  -65  -28  -55  -19   51  -14   12   14   23]\n",
      " [ -55   20   44   16   -8   -6   19  -47   40    7]\n",
      " [ -69   72  -24  -34   89   37  -72  -36    4 -116]\n",
      " [  22  -18   60   39 -132  -40  -29   14  -14   55]\n",
      " [-101   50   31   47   55 -116   48   56    1  -51]\n",
      " [  58   30  -80   16  -94   90   77  -18  -76 -119]\n",
      " [ -64   29   50   -4   -1   57  -11  -37   23   41]\n",
      " [ -43   24  -52   54  -50   -6   87    6  -40   20]\n",
      " [  43  -72   45   52    6   42   -7    5   27   35]\n",
      " [  45   80  -89  -33  -72   90   97  -40    4   38]\n",
      " [ -38   40   51  -41   35   42   23   41   44  -19]\n",
      " [-127   50  -40   50   44  -55  -63 -101   63   15]\n",
      " [  -3  -77   10  -40   -8   53   -3   55  -21    5]\n",
      " [ -69   57   29   48   61   53  -55   -8   39  -53]\n",
      " [ -86   46 -123   16   64   46    5  -38  -34   40]\n",
      " [ -31  -35  -34   57   37   56  -42   46  -34  -25]\n",
      " [  35   90  -51    5  -78   76  -57   30  -87  -24]\n",
      " [-127   52  -19  -80   26   55   41   60   34  -51]\n",
      " [ 140   26   88  -25  -69 -191   70   52  -11   16]\n",
      " [  69   52   55  -29  -11 -114   60   -8    6   23]\n",
      " [ -38  -73   -6   21   49   16   -5  -71   36    7]\n",
      " [ -44   75  -31   25   80  -27   31   62 -105  -27]\n",
      " [  35   17   31   12  -50  -33   63   60   36 -176]\n",
      " [ -87   94   48 -103    6   49   54  -38   66 -122]\n",
      " [   0  -79  -56   30   28   42  -28   43   34  -23]\n",
      " [ -16  -50  -59   20  -10  -70   41   22    8    9]\n",
      " [  48   18   21   25  -46  -51  -33  -15  103 -139]\n",
      " [  43  -28   42   30   54   32  -23  -40   37  -15]\n",
      " [  37  -48  -37  -78  -59  -10  -20   45   29  -29]\n",
      " [ -44   44   -2   44  -56   47  -97   19    7   73]\n",
      " [ -49   33   33   63   16   41 -151   55  -30   44]\n",
      " [ -59   24   52    4   64  -32  -57   46   31   51]\n",
      " [ -19   -5 -123   19   25   68   15    3   50   65]\n",
      " [  29  -75    0   43  -69  -44  -76   28  -28    2]\n",
      " [  49  -74  -51  -31  -12  -53  -49   20   -1   16]\n",
      " [   0   42   16  -32   -6  -50   29   43   38  -46]\n",
      " [  17  -36  -42   37  -75   14  -16   -5   20   28]\n",
      " [ -16   60  110   94 -107   45 -129   99 -133  -69]\n",
      " [  38   32   69   17    8  -72  -89   87   -4  -56]\n",
      " [  16   66   -1  -21   45  -66   14  -55   31   14]\n",
      " [   3   63 -102 -105   58 -109  -98  -35  -97  119]\n",
      " [  51 -106  -34  -56   30   37    7   41   32   45]\n",
      " [  23  -42 -158  -46  -86  100  -35  -39   10   -6]\n",
      " [   3  -23    0   10  -36    0   66 -103   26  -29]\n",
      " [ -81 -136   11  171 -117   51 -131   81 -100  -48]\n",
      " [  25    5   -5  -47   52   70   -9   83   -8 -127]\n",
      " [ -43   39   16   36  -33  -37   14  -71   45    8]\n",
      " [ -20   49   12   41 -103    4  -47   26   10  -49]\n",
      " [  10  -13  -63   70 -129  120   62  -28  -46   26]\n",
      " [  74   16   32   57  -12 -119 -112   58  -12   47]\n",
      " [-140   36  -48   28  -48   13   11  -30   12   12]\n",
      " [ -66  -93   78   81  -33   36   23  -77 -108   53]\n",
      " [ -45  -66   42  -55   40   39    4  -29   35   14]\n",
      " [  18  -34   61   56 -115    5  -65  -13  -21   57]\n",
      " [ -10  -67    7  -46   54  -64   14   65   -6   33]\n",
      " [  17  -50   34   16   52  -52    0   19   20  -42]\n",
      " [  21   55  -69  -57   58   32   23  -69    8   14]\n",
      " [   8  -72   14   25   22   30   -1  -41   27   46]\n",
      " [  14   38  118  -13   71  -65   31  -66 -116   19]\n",
      " [ -31  100  -86    6   66  -64  -22   93 -137 -169]\n",
      " [  32   68   12   40  -59    5  -43  -84   21  -36]\n",
      " [  68   -5   10  -25   48   -6   19   41 -112   27]\n",
      " [-118  -17   23   -8   41  106 -172   47 -178   -2]\n",
      " [ -77   10    7   67   11   69   20  -43  -41  -44]\n",
      " [   8  -50  -34   28   27  -22   83  -31   24   27]\n",
      " [ -49   78   -6   92    1 -165  -10   47  -50  -74]\n",
      " [ -18  111  -38 -110   63    5   61   23  -86  -49]\n",
      " [  41  -82  -38   27  -74   -1    8  -75   34   28]\n",
      " [  -3 -189  -40 -105 -119  161  103    7   17    7]\n",
      " [  58  120   33  -20    0  -93   25  -80  -30  -17]\n",
      " [  26  -89  -14  -67   -8  -74 -108   24   42   64]\n",
      " [ -47 -160 -126   15  -76   29  -18  -74  -21   98]\n",
      " [ -95   -8   14  124  -70  -47 -107  -72   -2   83]\n",
      " [ -30 -122   27   25    2   25   32   12   24   35]\n",
      " [ -56   23 -111   20   16   97   67  -48 -101 -191]\n",
      " [ -34  -35  -47   66   72 -185  -23  119    1   45]\n",
      " [ -13  -55   69  -38   21   29   50 -116   20   35]\n",
      " [ -28  -56  -67 -118   36   37   28  -97   98  -38]\n",
      " [  62  -51   -4   56  -97    1   40  -72   28   50]\n",
      " [  -9   33    8    4  -33   -7  -27  -94   55  -36]\n",
      " [ -20   43   -2 -109  -13   23  -35   36   54  -66]\n",
      " [  44    3   50    0  -20  -44    8  -58   60  -57]\n",
      " [ -33   -4  -59  -16   29  -45 -105    4   30   63]\n",
      " [ -26  -96  -20   -5  -33 -138   97   40   43   18]\n",
      " [ -25   51 -108   64   71  -72  -82    0  -81   60]\n",
      " [  49  -53   16  -73   38  -13   12   27  -14   20]\n",
      " [ -15    0   -9   -6   12  -18  -70   22   43   35]\n",
      " [  67   73   74  -74   49   25  -36  -75 -136   84]\n",
      " [ -29  -41  -11   17    9    2   60  -69   47  -40]\n",
      " [ -33  -34  -39   55    8   -5  -46   11   40  -35]\n",
      " [-106  -30   10   72   39  -40 -114   26   47    0]\n",
      " [  69  -19   66   22  -88  -95   27  -50  -10   75]\n",
      " [  14  -40   18   47  -18    7   52  -12   30   12]\n",
      " [  29   32   34   41  -81   65 -130   19  -67  -56]\n",
      " [ -10    4 -116   -6   62   45 -108  -48    0   55]\n",
      " [   5   -2    4   61 -105   38 -100    0  -14    5]\n",
      " [ -33  -51   28  -22  -88   68   20   34  -57 -115]\n",
      " [  31   24   42  -92   37   42   20  -15   11  -10]\n",
      " [ -21    5   73 -124  -23  -70   18   22  -34   36]\n",
      " [-146  131  168  -63  -12  -91   42  112   43 -149]\n",
      " [  60    9   92  -24   40   -8   58   44 -139  -43]\n",
      " [  47  -13  -21  -39 -115   43   82  -50    6   40]\n",
      " [   0  -64   44  -46 -131   14   24   45  -10  -70]\n",
      " [ -34    9  -56   33   37    6  -82    0   -6   62]]\n"
     ]
    }
   ],
   "source": [
    "print(final_weights)"
   ]
  }
 ],
 "metadata": {
  "interpreter": {
   "hash": "d170b457be874f1938439fbf2842c7757c08f881ea1aca22d804f446eeddf2dd"
  },
  "kernelspec": {
   "display_name": "Python 3.9.9 64-bit",
   "language": "python",
   "name": "python3"
  },
  "language_info": {
   "codemirror_mode": {
    "name": "ipython",
    "version": 3
   },
   "file_extension": ".py",
   "mimetype": "text/x-python",
   "name": "python",
   "nbconvert_exporter": "python",
   "pygments_lexer": "ipython3",
   "version": "3.9.9"
  },
  "orig_nbformat": 4
 },
 "nbformat": 4,
 "nbformat_minor": 2
}
